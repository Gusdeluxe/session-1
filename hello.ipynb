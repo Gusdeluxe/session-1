{
 "cells": [
  {
   "cell_type": "markdown",
   "metadata": {},
   "source": [
    "# Rendu Final"
   ]
  },
  {
   "cell_type": "markdown",
   "metadata": {},
   "source": [
    "## Etape 1 "
   ]
  },
  {
   "cell_type": "code",
   "execution_count": null,
   "metadata": {},
   "outputs": [
    {
     "ename": "CompilerException",
     "evalue": "",
     "output_type": "error",
     "traceback": [
      "\u001b[0m\u001b[1m\u001b[31mCompile error:\u001b[0m",
      "\u001b[0m\u001b[1m|    Scanner keyboard = new Scanner(System.in);\u001b[0m\u001b[1m\u001b[48;2;235;145;148m\u001b[0m\u001b[1m\\n\",\u001b[0m",
      "\u001b[0m\u001b[1m                                               ^\u001b[0m",
      "\u001b[0m\u001b[1;30m|        \"\\n\",\u001b[0m",
      "\u001b[0m\u001b[1;30m|        String[] companyNames = {\"E1\", \"E2\", \"E3\", \"E4\", \"E5\"};\\n\",\u001b[0m",
      "\u001b[0m\u001b[1;30m|             int[] Ve = new int[5]; // saisir \\\"Ve\\\"\\n\",\u001b[0m",
      "\u001b[0m\u001b[1;30m|               int[] REX = new int[5]; // saisir \\\"Vd\\\"\\n\",\u001b[0m",
      "\u001b[0m\u001b[1;30m|               int[] VdAM = new int[5]; // saisir \\\"REX\\\"\\n\",\u001b[0m",
      "\u001b[0m\u001b[1;30m|               double[] REXAM = new double[5]; // saisir \\\"Multiple résultat d'exploitation\\\"\\n\",\u001b[0m",
      "\u001b[0m\u001b[1;30m|    \u001b[0m",
      "\u001b[0m\u001b[1;30m|          for (int i = 0; i < 5; i++) {\\n\",\u001b[0m",
      "\u001b[0m\u001b[1;30m|                   System.out.printf(\\\"Saisir le Ve de %s: \\\\n\\\", companyNames[i]);\\n\",\u001b[0m",
      "\u001b[0m\u001b[1;30m|                 Ve[i] = keyboard.nextInt();\\n\",\u001b[0m",
      "\u001b[0m\u001b[1;30m|    \u001b[0m",
      "\u001b[0m\u001b[1;30m|                   System.out.printf(\\\"Saisir le REX de %s: \\\\n\\\", companyNames[i]);\\n\",\u001b[0m",
      "\u001b[0m\u001b[1;30m|                   REX[i] = keyboard.nextInt();\\n\",\u001b[0m",
      "\u001b[0m\u001b[1;30m|        \u001b[0m",
      "\u001b[0m\u001b[1;30m|                   System.out.printf(\\\"Saisir le Vd AM de %s: \\\\n\\\", companyNames[i]);\\n\",\u001b[0m",
      "\u001b[0m\u001b[1;30m|                   VdAM[i] = keyboard.nextInt();\\n\",\u001b[0m",
      "\u001b[0m\u001b[1;30m|        \u001b[0m",
      "\u001b[0m\u001b[1;30m|                  System.out.printf(\\\"Saisir le REX AM de %s: \\\\n\\\", companyNames[i]);\\n\",\u001b[0m",
      "\u001b[0m\u001b[1;30m|                  REXAM[i] = keyboard.nextDouble();\\n\",\u001b[0m",
      "\u001b[0m\u001b[1;30m|            },\u001b[0m",
      "\u001b[0m\u001b[1;30m|        \u001b[0m",
      "\u001b[0m\u001b[1;30m|             keyboard.close();\\n\",\u001b[0m",
      "\u001b[0m\u001b[1;30m|        \u001b[0m",
      "\u001b[0m\u001b[1;30m|               System.out.println(\"+---------------+-------+-------+--------+--------+\\\");\\n\",\u001b[0m",
      "\u001b[0m\u001b[1;30m|               System.out.println(\"| Entreprise    |   Ve  |  REX  |  Vd AM | REX AM |\\\");\\n\",\u001b[0m",
      "\u001b[0m\u001b[1;30m|               System.out.println(\"+---------------+-------+-------+--------+--------+\\\");\\n\",\u001b[0m",
      "\u001b[0m\u001b[1;30m|    \u001b[0m",
      "\u001b[0m\u001b[1;30m|        \"        for (int i = 0; i < 5; i++) {\\n\",\u001b[0m",
      "\u001b[0m\u001b[1;30m|        \"            System.out.printf(\\\"| %-13s |  %3d |  %3d |  %3d  |  %6.2f  |\\n\\\",\\n\",\u001b[0m",
      "\u001b[0m\u001b[1;30m|        \"                    companyNames[i], Ve[i], REX[i], VdAM[i], REXAM[i]);\\n\",\u001b[0m",
      "\u001b[0m\u001b[1;30m|              }\\n\",\u001b[0m",
      "\u001b[0m\u001b[1;30m|            System.out.println(\\\"+---------------+-------+-------+--------+--------+\\\");\\n\",\u001b[0m",
      "\u001b[0m\u001b[1;30m|               \\n\"\u001b[0m",
      "\u001b[0m\u001b[1;30m|       ]\u001b[0m",
      "\u001b[0m\u001b[1;30m|      }\u001b[0m",
      "\u001b[0m\u001b[1m\u001b[34millegal character: '\\'\u001b[0m",
      ""
     ]
    }
   ],
   "source": [
    "Scanner keyboard = new Scanner(System.in);\n",
    "\n",
    "       // Tableau pour stocker les données des entreprises@\n",
    "        String[] companyNames = {\"E1\", \"E2\", \"E3\", \"E4\", \"E5\"};\n",
    "        int[] Ve = new int[5];\n",
    "        int[] REX = new int[5];\n",
    "        int[] VdAM = new int[5];\n",
    "        int[] REXAM = new int[5];\n",
    "\n",
    "        for (int i = 0; i < 5; i++) {\n",
    "            System.out.printf(\"Saisir le Ve de %s: \\n\", companyNames[i]);\n",
    "            Ve[i] = keyboard.nextInt();\n",
    "\n",
    "            System.out.printf(\"Saisir le REX de %s: \\n\", companyNames[i]);\n",
    "            REX[i] = keyboard.nextInt();\n",
    "\n",
    "            System.out.printf(\"Saisir le Vd AM de %s: \\n\", companyNames[i]);\n",
    "            VdAM[i] = keyboard.nextInt();\n",
    "\n",
    "            System.out.printf(\"Saisir le REX AM de %s: \\n\", companyNames[i]);\n",
    "            REXAM[i] = keyboard.nextInt();\n",
    "        }\n",
    "\n",
    "        keyboard.close();\n",
    "\n",
    "        // Affichage des données saisies\n",
    "        System.out.println(\"+---------------+-------+-------+--------+--------+\");\n",
    "        System.out.println(\"| Entreprise    |   Ve  |  REX  |  Vd AM | REX AM |\");\n",
    "        System.out.println(\"+---------------+-------+-------+--------+--------+\");\n",
    "\n",
    "        for (int i = 0; i < 5; i++) {\n",
    "            System.out.printf(\"| %-13s |  %3d |  %3d |  %3d  |  %3d  |\\n\",\n",
    "                    companyNames[i], Ve[i], REX[i], VdAM[i], REXAM[i]);\n",
    "        }\n",
    "\n",
    "        System.out.println(\"+---------------+-------+-------+--------+--------+\");"
   ]
  },
  {
   "cell_type": "markdown",
   "metadata": {},
   "source": [
    "## Etape 2"
   ]
  },
  {
   "cell_type": "code",
   "execution_count": null,
   "metadata": {},
   "outputs": [],
   "source": [
    "//Étape 2\\n\",\n",
    "    double[] averageREX = new double[5];\\n\",\n",
    "        for (int i = 0; i < 5; i++) ,\n",
    "                   if (REX[i] != 0) {\\n\",\n",
    "                 averageREX[i] = (double) Ve[i] / REX[i];\\n\",\n",
    "              } else {\\n\",\n",
    "                 averageREX[i] = 0; \n",
    "             }\n",
    "\n",
    "    \n",
    "           // Affichage des moyennes du REX\\n\",\n",
    "           System.out.println(\\\"\\\\n+---------------+------------------+\\\");\\n\",\n",
    "           System.out.println(\\\"| Entreprise    | Moyenne du REX   |\\\");\\n\",\n",
    "           System.out.println(\\\"+---------------+------------------+\\\");\\n\",\n",
    "\n",
    "           for (int i = 0; i < 5; i++) {\\n\",\n",
    "               System.out.printf(\\\"| %-13s | %16.2f |\\\\n\\\", companyNames[i], averageREX[i]);\\n\",\n",
    "            }\\n\",\n",
    "\n",
    "           System.out.println(\\\"+---------------+------------------+\\\");\"\n",
    "\n",
    "  }"
   ]
  },
  {
   "cell_type": "markdown",
   "metadata": {},
   "source": [
    "## Etape 3"
   ]
  },
  {
   "cell_type": "code",
   "execution_count": null,
   "metadata": {},
   "outputs": [],
   "source": [
    "//Etape 3\n",
    "System.out.println(\"\\n+---------------+-------+-------+--------+--------+--------+\");\n",
    "System.out.println(\"| Entreprise    |   Ve  |  REX  | Vd AM  | REX AM | m REX  |\");\n",
    "System.out.println(\"+---------------+-------+-------+--------+--------+--------+\");\n",
    "\n",
    "double totalDesMultiples = 0;  \n",
    "int nbEntreprisesValides = 0;\n",
    "double[] mREX = new double[5];\n",
    "\n",
    "\n",
    "for (int i = 0; i < 5; i++) {\n",
    "    if (REX[i] > 0) {\n",
    "\n",
    "        mREX[i] = (double) Ve[i] / REX[i];\n",
    "        totalDesMultiples += mREX[i];  \n",
    "        nbEntreprisesValides++;        \n",
    "\n",
    "        System.out.printf(\"| %-13s | %5d | %5d | %6d | %6d | %6.2f |\\n\",\n",
    "                companyNames[i], Ve[i], REX[i], VdAM[i], REXAM[i], mREX[i]);\n",
    "    } else \n",
    "    {\n",
    "        mREX[i] = -1; // -1 = pas calculable\n",
    "        System.out.printf(\"| %-13s | %5d | %5d | %6d | %6d |   N/A  |\\n\",\n",
    "                companyNames[i], Ve[i], REX[i], VdAM[i], REXAM[i]);\n",
    "    }\n",
    "}\n",
    "\n",
    "System.out.println(\"+---------------+-------+-------+--------+--------+--------+\");"
   ]
  },
  {
   "cell_type": "markdown",
   "metadata": {},
   "source": [
    "## Etape 4"
   ]
  },
  {
   "cell_type": "code",
   "execution_count": null,
   "metadata": {},
   "outputs": [],
   "source": [
    "REX (Mm REX) ===\n",
    "        double moyenneMREX;\n",
    "        if (nombreValide > 0) {\n",
    "            moyenneMREX = sommeMREX / nombreValide; \n",
    "            System.out.printf(\"\\nMoyenne des multiples REX (Mm REX) : %.2f\\n\", moyenneMREX);\n",
    "        } else {\n",
    "\n",
    "            System.out.println(\"\\nAucune entreprise valide pour calculer la moyenne du multiple REX.\");\n",
    "            return; \n",
    "        }"
   ]
  },
  {
   "cell_type": "markdown",
   "metadata": {},
   "source": [
    "## Etape 5 "
   ]
  },
  {
   "cell_type": "code",
   "execution_count": null,
   "metadata": {},
   "outputs": [],
   "source": [
    " double[] VeAM = new double[5]; \n",
    "\n",
    "        System.out.println(\"\\n+---------------+--------+-------------------------------+\");\n",
    "        System.out.println(\"| Entreprise    | REX AM | Ve AM calculé (REXAM × Mm REX)|\");\n",
    "        System.out.println(\"+---------------+--------+-------------------------------+\");\n",
    "\n",
    "        for (int i = 0; i < 5; i++) {\n",
    "            \n",
    "            VeAM[i] = REXAM[i] * moyenneMREX;\n",
    "\n",
    "            \n",
    "            System.out.printf(\"| %-13s | %6d | %29.2f |\\n\",\n",
    "                    companyNames[i], REXAM[i], VeAM[i]);\n",
    "        }\n",
    "\n",
    "        System.out.println(\"+---------------+--------+-------------------------------+\");\n",
    "    }\n",
    "}"
   ]
  },
  {
   "cell_type": "markdown",
   "metadata": {},
   "source": [
    "## Etape 6 - Calcule du Vcp pour chaque entreprise"
   ]
  },
  {
   "cell_type": "code",
   "execution_count": null,
   "metadata": {},
   "outputs": [],
   "source": [
    "double[] Vcp = new double[5]; // tableau pour stocker les Vcp calculés\n",
    "\n",
    "System.out.println(\"\\n+---------------+--------+--------+--------+\");\n",
    "System.out.println(\"| Entreprise    | Ve AM  | Vd AM  |  Vcp   |\");\n",
    "System.out.println(\"+---------------+--------+--------+--------+\");\n",
    "\n",
    "for (int i = 0; i < 5; i++) {\n",
    "    Vcp[i] = VeAM[i] - VdAM[i]; // Formule : Ve - Vd\n",
    "\n",
    "    System.out.printf(\"| %-13s | %6.2f | %6d | %6.2f |\\n\",\n",
    "            companyNames[i], VeAM[i], VdAM[i], Vcp[i]);\n",
    "}\n",
    "\n",
    "System.out.println(\"+---------------+--------+--------+--------+\");"
   ]
  },
  {
   "cell_type": "markdown",
   "metadata": {},
   "source": [
    "## Etape 7 "
   ]
  },
  {
   "cell_type": "code",
   "execution_count": null,
   "metadata": {},
   "outputs": [],
   "source": [
    "System.out.println(\"\\n=== INTERPRÉTATION DES RÉSULTATS ===\");\n",
    "\n",
    "for (int i = 0; i < 5; i++) {\n",
    "    System.out.println(\"\\nEntreprise : \" + companyNames[i]);\n",
    "\n",
    "    // 1. Interprétation du multiple REX\n",
    "    if (mREX[i] >= 0) { // s'assurer qu'on ne regarde pas un multiple invalide\n",
    "        if (mREX[i] < 5) {\n",
    "            System.out.println(\"Multiple REX faible (< 5) : prudence sur la rentabilité.\");\n",
    "        } else {\n",
    "            System.out.println(\"Multiple REX satisfaisant (>= 5).\");\n",
    "        }\n",
    "    } else {\n",
    "        System.out.println(\"Multiple REX non disponible (REX nul ou négatif).\");\n",
    "    }\n",
    "\n",
    "    // 2. Comparaison VeAM (recalculé) vs Ve initial\n",
    "    if (VeAM[i] < Ve[i]) {\n",
    "        System.out.println(\"Ve AM recalculé < Ve initial : révision de valeur à la baisse.\");\n",
    "    } else {\n",
    "        System.out.println(\"Ve AM >= Ve initial : valorisation confirmée ou revue à la hausse.\");\n",
    "    }\n",
    "\n",
    "    // 3. Analyse de la valeur créée (Vcp)\n",
    "    if (Vcp[i] > 0) {\n",
    "        System.out.println(\"Vcp > 0 : Création de valeur pour l'actionnaire.\");\n",
    "    } else if (Vcp[i] == 0) {\n",
    "        System.out.println(\"Vcp = 0 : Valeur neutre.\");\n",
    "    } else {\n",
    "        System.out.println(\"Vcp < 0 : Destruction de valeur.\");\n",
    "    }\n",
    "}"
   ]
  }
 ],
 "metadata": {
  "kernelspec": {
   "display_name": "Java (rjk 2.2.0)",
   "language": "java",
   "name": "rapaio-jupyter-kernel"
  },
  "language_info": {
   "codemirror_mode": "java",
   "file_extension": ".jshell",
   "mimetype": "text/x-java-source",
   "name": "java",
   "nbconvert_exporter": "script",
   "pygments_lexer": "java",
   "version": "21.0.7+6-LTS"
  }
 },
 "nbformat": 4,
 "nbformat_minor": 2
}
